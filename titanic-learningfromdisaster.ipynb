{
 "cells": [
  {
   "cell_type": "code",
   "execution_count": 1,
   "id": "855c1e70",
   "metadata": {
    "_cell_guid": "b1076dfc-b9ad-4769-8c92-a6c4dae69d19",
    "_uuid": "8f2839f25d086af736a60e9eeb907d3b93b6e0e5",
    "execution": {
     "iopub.execute_input": "2022-12-02T20:44:02.086068Z",
     "iopub.status.busy": "2022-12-02T20:44:02.085564Z",
     "iopub.status.idle": "2022-12-02T20:44:03.230376Z",
     "shell.execute_reply": "2022-12-02T20:44:03.228848Z"
    },
    "papermill": {
     "duration": 1.153766,
     "end_time": "2022-12-02T20:44:03.233628",
     "exception": false,
     "start_time": "2022-12-02T20:44:02.079862",
     "status": "completed"
    },
    "tags": []
   },
   "outputs": [
    {
     "name": "stdout",
     "output_type": "stream",
     "text": [
      "/kaggle/input/titanic/train.csv\n",
      "/kaggle/input/titanic/test.csv\n",
      "/kaggle/input/titanic/gender_submission.csv\n"
     ]
    }
   ],
   "source": [
    "# This Python 3 environment comes with many helpful analytics libraries installed\n",
    "# It is defined by the kaggle/python Docker image: https://github.com/kaggle/docker-python\n",
    "# For example, here's several helpful packages to load\n",
    "\n",
    "import numpy as np # linear algebra\n",
    "import pandas as pd # data processing, CSV file I/O (e.g. pd.read_csv)\n",
    "import matplotlib.pyplot as plt\n",
    "from sklearn.linear_model import LogisticRegression\n",
    "from sklearn.model_selection import train_test_split\n",
    "from sklearn.metrics import accuracy_score, jaccard_score, f1_score, log_loss\n",
    "\n",
    "%matplotlib inline\n",
    "\n",
    "# Input data files are available in the read-only \"../input/\" directory\n",
    "# For example, running this (by clicking run or pressing Shift+Enter) will list all files under the input directory\n",
    "\n",
    "import os\n",
    "for dirname, _, filenames in os.walk('/kaggle/input'):\n",
    "    for filename in filenames:\n",
    "        print(os.path.join(dirname, filename))\n",
    "\n",
    "# You can write up to 20GB to the current directory (/kaggle/working/) that gets preserved as output when you create a version using \"Save & Run All\" \n",
    "# You can also write temporary files to /kaggle/temp/, but they won't be saved outside of the current session"
   ]
  },
  {
   "cell_type": "code",
   "execution_count": 2,
   "id": "c17e55aa",
   "metadata": {
    "execution": {
     "iopub.execute_input": "2022-12-02T20:44:03.242439Z",
     "iopub.status.busy": "2022-12-02T20:44:03.241884Z",
     "iopub.status.idle": "2022-12-02T20:44:03.310025Z",
     "shell.execute_reply": "2022-12-02T20:44:03.308723Z"
    },
    "papermill": {
     "duration": 0.075252,
     "end_time": "2022-12-02T20:44:03.312401",
     "exception": false,
     "start_time": "2022-12-02T20:44:03.237149",
     "status": "completed"
    },
    "tags": []
   },
   "outputs": [
    {
     "name": "stdout",
     "output_type": "stream",
     "text": [
      "PassengerId    891\n",
      "Survived         2\n",
      "Pclass           3\n",
      "Name           891\n",
      "Sex              2\n",
      "Age             88\n",
      "SibSp            7\n",
      "Parch            7\n",
      "Ticket         681\n",
      "Fare           248\n",
      "Cabin          147\n",
      "Embarked         3\n",
      "dtype: int64\n",
      "Number of survivors: \n",
      " 0    549\n",
      "1    342\n",
      "Name: Survived, dtype: int64\n"
     ]
    }
   ],
   "source": [
    "#Get and process train Values\n",
    "passengers = pd.read_csv('/kaggle/input/titanic/train.csv')\n",
    "#Show number of unique rows for each column\n",
    "print(passengers.nunique())\n",
    "print(\"Number of survivors: \\n\",passengers[\"Survived\"].value_counts())\n",
    "#Show if there are Nan values in each column\n",
    "#print(\"Nan Values:\")\n",
    "#[print(passengers[column].isna().value_counts())for column in passengers] #This tells us that age, cabin and embarked have Nan Values\n",
    "#preprocessing the train data\n",
    "passengers[\"Cabin\"].fillna(value= \"NoCabin\", inplace= True) #fills NaN in Cabin with \"NoCabin\" \n",
    "passengers[\"Age\"].fillna(value= 100.0, inplace= True) #fills NaN in Age with 100.0\n",
    "passengers[\"Embarked\"].fillna(value= \"NoPort\", inplace= True)#fills NaN in Age with \"NoPort\"\n",
    "passengers.replace(['male','female'],[0,1], inplace= True)\n",
    "#Drop the result column\n",
    "passenger_features = passengers.drop(columns=[\"Survived\"], axis=1)\n",
    "#Separate categorical text values into different columns\n",
    "processed_passengers = pd.get_dummies(data = passenger_features, columns = [\"Ticket\",\"Cabin\",\"Embarked\",\"Name\"])"
   ]
  },
  {
   "cell_type": "code",
   "execution_count": 3,
   "id": "e544fd16",
   "metadata": {
    "execution": {
     "iopub.execute_input": "2022-12-02T20:44:03.319802Z",
     "iopub.status.busy": "2022-12-02T20:44:03.319449Z",
     "iopub.status.idle": "2022-12-02T20:44:03.350174Z",
     "shell.execute_reply": "2022-12-02T20:44:03.348042Z"
    },
    "papermill": {
     "duration": 0.037383,
     "end_time": "2022-12-02T20:44:03.352885",
     "exception": false,
     "start_time": "2022-12-02T20:44:03.315502",
     "status": "completed"
    },
    "tags": []
   },
   "outputs": [
    {
     "name": "stdout",
     "output_type": "stream",
     "text": [
      "PassengerId    418\n",
      "Pclass           3\n",
      "Name           418\n",
      "Sex              2\n",
      "Age             79\n",
      "SibSp            7\n",
      "Parch            8\n",
      "Ticket         363\n",
      "Fare           169\n",
      "Cabin           76\n",
      "Embarked         3\n",
      "dtype: int64\n"
     ]
    }
   ],
   "source": [
    "# Get and Process Test Values\n",
    "passengers_test = pd.read_csv('/kaggle/input/titanic/test.csv')\n",
    "#Show number of unique rows for each column\n",
    "print(passengers_test.nunique())\n",
    "#preprocessing the test data\n",
    "passengers_test[\"Cabin\"].fillna(value= \"NoCabin\", inplace= True) #fills NaN in Cabin with \"NoCabin\" \n",
    "passengers_test[\"Age\"].fillna(value= 100.0, inplace= True) #fills NaN in Age with 100.0\n",
    "passengers_test[\"Embarked\"].fillna(value= \"NoPort\", inplace= True)#fills NaN in Age with \"NoPort\"\n",
    "passengers_test.replace(['male','female'],[0,1], inplace= True)\n",
    "passengers_test.dropna(inplace= True)\n",
    "processed_test = pd.get_dummies(data = passengers_test, columns = [\"Ticket\",\"Cabin\",\"Embarked\",\"Name\"])"
   ]
  },
  {
   "cell_type": "code",
   "execution_count": 4,
   "id": "5221ab14",
   "metadata": {
    "execution": {
     "iopub.execute_input": "2022-12-02T20:44:03.362259Z",
     "iopub.status.busy": "2022-12-02T20:44:03.361053Z",
     "iopub.status.idle": "2022-12-02T20:44:03.382763Z",
     "shell.execute_reply": "2022-12-02T20:44:03.381027Z"
    },
    "papermill": {
     "duration": 0.030172,
     "end_time": "2022-12-02T20:44:03.386534",
     "exception": false,
     "start_time": "2022-12-02T20:44:03.356362",
     "status": "completed"
    },
    "tags": []
   },
   "outputs": [],
   "source": [
    "#This fills with NA if the column does not exist in the right dataframe\n",
    "x_train, x_test = processed_passengers.align(processed_test, join = 'left',axis=1)\n",
    "x_test.fillna(value= 0, inplace= True)"
   ]
  },
  {
   "cell_type": "code",
   "execution_count": 5,
   "id": "1c8e7f37",
   "metadata": {
    "execution": {
     "iopub.execute_input": "2022-12-02T20:44:03.394875Z",
     "iopub.status.busy": "2022-12-02T20:44:03.394454Z",
     "iopub.status.idle": "2022-12-02T20:44:03.403081Z",
     "shell.execute_reply": "2022-12-02T20:44:03.401720Z"
    },
    "papermill": {
     "duration": 0.015298,
     "end_time": "2022-12-02T20:44:03.405292",
     "exception": false,
     "start_time": "2022-12-02T20:44:03.389994",
     "status": "completed"
    },
    "tags": []
   },
   "outputs": [
    {
     "name": "stdout",
     "output_type": "stream",
     "text": [
      "Shape of the train set: (891, 1731) \n",
      "Shape of the test set: (417, 1731)\n",
      "Number of survivors: \n",
      "0    549\n",
      "1    342\n",
      "Name: Survived, dtype: int64\n"
     ]
    }
   ],
   "source": [
    "#Drop the name column as it gives no data (each passenger had their own name, unique to them, redundant with PassengerId)\n",
    "y_train = passengers[\"Survived\"]\n",
    "#check the shapes are correct\n",
    "print(f'Shape of the train set: {x_train.shape} \\nShape of the test set: {x_test.shape}')\n",
    "#check the number of survivors is correct\n",
    "print(f'Number of survivors: \\n{y_train.value_counts()}')"
   ]
  },
  {
   "cell_type": "code",
   "execution_count": 6,
   "id": "44a7a9e3",
   "metadata": {
    "execution": {
     "iopub.execute_input": "2022-12-02T20:44:03.413448Z",
     "iopub.status.busy": "2022-12-02T20:44:03.412962Z",
     "iopub.status.idle": "2022-12-02T20:44:03.467214Z",
     "shell.execute_reply": "2022-12-02T20:44:03.465765Z"
    },
    "papermill": {
     "duration": 0.061459,
     "end_time": "2022-12-02T20:44:03.470012",
     "exception": false,
     "start_time": "2022-12-02T20:44:03.408553",
     "status": "completed"
    },
    "tags": []
   },
   "outputs": [
    {
     "data": {
      "text/plain": [
       "LogisticRegression(solver='liblinear')"
      ]
     },
     "execution_count": 6,
     "metadata": {},
     "output_type": "execute_result"
    }
   ],
   "source": [
    "LogReg = LogisticRegression(solver= 'liblinear')\n",
    "LogReg.fit(x_train,y_train)"
   ]
  },
  {
   "cell_type": "code",
   "execution_count": 7,
   "id": "c3f28997",
   "metadata": {
    "execution": {
     "iopub.execute_input": "2022-12-02T20:44:03.478604Z",
     "iopub.status.busy": "2022-12-02T20:44:03.478195Z",
     "iopub.status.idle": "2022-12-02T20:44:03.506885Z",
     "shell.execute_reply": "2022-12-02T20:44:03.506010Z"
    },
    "papermill": {
     "duration": 0.03597,
     "end_time": "2022-12-02T20:44:03.509507",
     "exception": false,
     "start_time": "2022-12-02T20:44:03.473537",
     "status": "completed"
    },
    "tags": []
   },
   "outputs": [
    {
     "data": {
      "text/plain": [
       "(417, 2)"
      ]
     },
     "execution_count": 7,
     "metadata": {},
     "output_type": "execute_result"
    }
   ],
   "source": [
    "#Predict\n",
    "predict = LogReg.predict(x_test)\n",
    "predictions = pd.DataFrame({'PassengerId':x_test['PassengerId'],'Survived':predict})\n",
    "predictions.shape"
   ]
  },
  {
   "cell_type": "code",
   "execution_count": 8,
   "id": "4d8d5e76",
   "metadata": {
    "execution": {
     "iopub.execute_input": "2022-12-02T20:44:03.519644Z",
     "iopub.status.busy": "2022-12-02T20:44:03.518941Z",
     "iopub.status.idle": "2022-12-02T20:44:03.529241Z",
     "shell.execute_reply": "2022-12-02T20:44:03.528033Z"
    },
    "papermill": {
     "duration": 0.017463,
     "end_time": "2022-12-02T20:44:03.531254",
     "exception": false,
     "start_time": "2022-12-02T20:44:03.513791",
     "status": "completed"
    },
    "tags": []
   },
   "outputs": [
    {
     "name": "stdout",
     "output_type": "stream",
     "text": [
      "Done\n"
     ]
    }
   ],
   "source": [
    "predictions.to_csv('titanic_submission.csv', index= False)\n",
    "print(\"Done\")"
   ]
  },
  {
   "cell_type": "code",
   "execution_count": null,
   "id": "1731de44",
   "metadata": {
    "papermill": {
     "duration": 0.003594,
     "end_time": "2022-12-02T20:44:03.538939",
     "exception": false,
     "start_time": "2022-12-02T20:44:03.535345",
     "status": "completed"
    },
    "tags": []
   },
   "outputs": [],
   "source": []
  }
 ],
 "metadata": {
  "kernelspec": {
   "display_name": "Python 3",
   "language": "python",
   "name": "python3"
  },
  "language_info": {
   "codemirror_mode": {
    "name": "ipython",
    "version": 3
   },
   "file_extension": ".py",
   "mimetype": "text/x-python",
   "name": "python",
   "nbconvert_exporter": "python",
   "pygments_lexer": "ipython3",
   "version": "3.7.12"
  },
  "papermill": {
   "default_parameters": {},
   "duration": 10.067489,
   "end_time": "2022-12-02T20:44:04.365814",
   "environment_variables": {},
   "exception": null,
   "input_path": "__notebook__.ipynb",
   "output_path": "__notebook__.ipynb",
   "parameters": {},
   "start_time": "2022-12-02T20:43:54.298325",
   "version": "2.3.4"
  }
 },
 "nbformat": 4,
 "nbformat_minor": 5
}
