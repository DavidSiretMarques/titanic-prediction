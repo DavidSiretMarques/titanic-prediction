{
 "cells": [
  {
   "cell_type": "code",
   "execution_count": 1,
   "id": "044ce4bd",
   "metadata": {
    "_cell_guid": "b1076dfc-b9ad-4769-8c92-a6c4dae69d19",
    "_uuid": "8f2839f25d086af736a60e9eeb907d3b93b6e0e5",
    "execution": {
     "iopub.execute_input": "2022-12-02T20:49:16.267133Z",
     "iopub.status.busy": "2022-12-02T20:49:16.266352Z",
     "iopub.status.idle": "2022-12-02T20:49:17.538784Z",
     "shell.execute_reply": "2022-12-02T20:49:17.534721Z"
    },
    "papermill": {
     "duration": 1.282778,
     "end_time": "2022-12-02T20:49:17.542941",
     "exception": false,
     "start_time": "2022-12-02T20:49:16.260163",
     "status": "completed"
    },
    "tags": []
   },
   "outputs": [
    {
     "name": "stdout",
     "output_type": "stream",
     "text": [
      "/kaggle/input/titanic/train.csv\n",
      "/kaggle/input/titanic/test.csv\n",
      "/kaggle/input/titanic/gender_submission.csv\n"
     ]
    }
   ],
   "source": [
    "# This Python 3 environment comes with many helpful analytics libraries installed\n",
    "# It is defined by the kaggle/python Docker image: https://github.com/kaggle/docker-python\n",
    "# For example, here's several helpful packages to load\n",
    "\n",
    "import numpy as np # linear algebra\n",
    "import pandas as pd # data processing, CSV file I/O (e.g. pd.read_csv)\n",
    "import matplotlib.pyplot as plt\n",
    "from sklearn.linear_model import LogisticRegression\n",
    "from sklearn.model_selection import train_test_split\n",
    "from sklearn.metrics import accuracy_score, jaccard_score, f1_score, log_loss\n",
    "\n",
    "%matplotlib inline\n",
    "\n",
    "# Input data files are available in the read-only \"../input/\" directory\n",
    "# For example, running this (by clicking run or pressing Shift+Enter) will list all files under the input directory\n",
    "\n",
    "import os\n",
    "for dirname, _, filenames in os.walk('/kaggle/input'):\n",
    "    for filename in filenames:\n",
    "        print(os.path.join(dirname, filename))\n",
    "\n",
    "# You can write up to 20GB to the current directory (/kaggle/working/) that gets preserved as output when you create a version using \"Save & Run All\" \n",
    "# You can also write temporary files to /kaggle/temp/, but they won't be saved outside of the current session"
   ]
  },
  {
   "cell_type": "code",
   "execution_count": 2,
   "id": "5a1d85d2",
   "metadata": {
    "execution": {
     "iopub.execute_input": "2022-12-02T20:49:17.552284Z",
     "iopub.status.busy": "2022-12-02T20:49:17.551888Z",
     "iopub.status.idle": "2022-12-02T20:49:17.629313Z",
     "shell.execute_reply": "2022-12-02T20:49:17.627648Z"
    },
    "papermill": {
     "duration": 0.085361,
     "end_time": "2022-12-02T20:49:17.632001",
     "exception": false,
     "start_time": "2022-12-02T20:49:17.546640",
     "status": "completed"
    },
    "tags": []
   },
   "outputs": [
    {
     "name": "stdout",
     "output_type": "stream",
     "text": [
      "PassengerId    891\n",
      "Survived         2\n",
      "Pclass           3\n",
      "Name           891\n",
      "Sex              2\n",
      "Age             88\n",
      "SibSp            7\n",
      "Parch            7\n",
      "Ticket         681\n",
      "Fare           248\n",
      "Cabin          147\n",
      "Embarked         3\n",
      "dtype: int64\n",
      "Number of survivors: \n",
      " 0    549\n",
      "1    342\n",
      "Name: Survived, dtype: int64\n"
     ]
    }
   ],
   "source": [
    "#Get and process train Values\n",
    "passengers = pd.read_csv('/kaggle/input/titanic/train.csv')\n",
    "#Show number of unique rows for each column\n",
    "print(passengers.nunique())\n",
    "print(\"Number of survivors: \\n\",passengers[\"Survived\"].value_counts())\n",
    "#Show if there are Nan values in each column\n",
    "#print(\"Nan Values:\")\n",
    "#[print(passengers[column].isna().value_counts())for column in passengers] #This tells us that age, cabin and embarked have Nan Values\n",
    "#preprocessing the train data\n",
    "passengers[\"Cabin\"].fillna(value= \"NoCabin\", inplace= True) #fills NaN in Cabin with \"NoCabin\" \n",
    "passengers[\"Age\"].fillna(value= 100.0, inplace= True) #fills NaN in Age with 100.0\n",
    "passengers[\"Embarked\"].fillna(value= \"NoPort\", inplace= True)#fills NaN in Age with \"NoPort\"\n",
    "passengers.replace(['male','female'],[0,1], inplace= True)\n",
    "#Drop the result column\n",
    "passenger_features = passengers.drop(columns=[\"Survived\"], axis=1)\n",
    "#Separate categorical text values into different columns\n",
    "processed_passengers = pd.get_dummies(data = passenger_features, columns = [\"Ticket\",\"Cabin\",\"Embarked\",\"Name\"])"
   ]
  },
  {
   "cell_type": "code",
   "execution_count": 3,
   "id": "e87e3671",
   "metadata": {
    "execution": {
     "iopub.execute_input": "2022-12-02T20:49:17.640559Z",
     "iopub.status.busy": "2022-12-02T20:49:17.640135Z",
     "iopub.status.idle": "2022-12-02T20:49:17.671911Z",
     "shell.execute_reply": "2022-12-02T20:49:17.670375Z"
    },
    "papermill": {
     "duration": 0.039048,
     "end_time": "2022-12-02T20:49:17.674391",
     "exception": false,
     "start_time": "2022-12-02T20:49:17.635343",
     "status": "completed"
    },
    "tags": []
   },
   "outputs": [
    {
     "name": "stdout",
     "output_type": "stream",
     "text": [
      "PassengerId    418\n",
      "Pclass           3\n",
      "Name           418\n",
      "Sex              2\n",
      "Age             79\n",
      "SibSp            7\n",
      "Parch            8\n",
      "Ticket         363\n",
      "Fare           169\n",
      "Cabin           76\n",
      "Embarked         3\n",
      "dtype: int64\n"
     ]
    }
   ],
   "source": [
    "# Get and Process Test Values\n",
    "passengers_test = pd.read_csv('/kaggle/input/titanic/test.csv')\n",
    "#Show number of unique rows for each column\n",
    "print(passengers_test.nunique())\n",
    "#preprocessing the test data\n",
    "passengers_test[\"Cabin\"].fillna(value= \"NoCabin\", inplace= True) #fills NaN in Cabin with \"NoCabin\" \n",
    "passengers_test[\"Age\"].fillna(value= 100.0, inplace= True) #fills NaN in Age with 100.0\n",
    "passengers_test[\"Embarked\"].fillna(value= \"NoPort\", inplace= True)#fills NaN in Age with \"NoPort\"\n",
    "passengers_test[\"Fare\"].fillna(value= 0, inplace= True)#fills NaN in Fare with 0\n",
    "passengers_test.replace(['male','female'],[0,1], inplace= True)\n",
    "processed_test = pd.get_dummies(data = passengers_test, columns = [\"Ticket\",\"Cabin\",\"Embarked\",\"Name\"])"
   ]
  },
  {
   "cell_type": "code",
   "execution_count": 4,
   "id": "8a11232a",
   "metadata": {
    "execution": {
     "iopub.execute_input": "2022-12-02T20:49:17.683069Z",
     "iopub.status.busy": "2022-12-02T20:49:17.682656Z",
     "iopub.status.idle": "2022-12-02T20:49:17.713123Z",
     "shell.execute_reply": "2022-12-02T20:49:17.711704Z"
    },
    "papermill": {
     "duration": 0.037738,
     "end_time": "2022-12-02T20:49:17.715710",
     "exception": false,
     "start_time": "2022-12-02T20:49:17.677972",
     "status": "completed"
    },
    "tags": []
   },
   "outputs": [],
   "source": [
    "#This fills with NA if the column does not exist in the right dataframe\n",
    "x_train, x_test = processed_passengers.align(processed_test, join = 'left',axis=1)\n",
    "x_test.fillna(value= 0, inplace= True)"
   ]
  },
  {
   "cell_type": "code",
   "execution_count": 5,
   "id": "3bfb0744",
   "metadata": {
    "execution": {
     "iopub.execute_input": "2022-12-02T20:49:17.724384Z",
     "iopub.status.busy": "2022-12-02T20:49:17.723977Z",
     "iopub.status.idle": "2022-12-02T20:49:17.731428Z",
     "shell.execute_reply": "2022-12-02T20:49:17.730332Z"
    },
    "papermill": {
     "duration": 0.01491,
     "end_time": "2022-12-02T20:49:17.733951",
     "exception": false,
     "start_time": "2022-12-02T20:49:17.719041",
     "status": "completed"
    },
    "tags": []
   },
   "outputs": [
    {
     "name": "stdout",
     "output_type": "stream",
     "text": [
      "Shape of the train set: (891, 1731) \n",
      "Shape of the test set: (418, 1731)\n",
      "Number of survivors: \n",
      "0    549\n",
      "1    342\n",
      "Name: Survived, dtype: int64\n"
     ]
    }
   ],
   "source": [
    "#Drop the name column as it gives no data (each passenger had their own name, unique to them, redundant with PassengerId)\n",
    "y_train = passengers[\"Survived\"]\n",
    "#check the shapes are correct\n",
    "print(f'Shape of the train set: {x_train.shape} \\nShape of the test set: {x_test.shape}')\n",
    "#check the number of survivors is correct\n",
    "print(f'Number of survivors: \\n{y_train.value_counts()}')"
   ]
  },
  {
   "cell_type": "code",
   "execution_count": 6,
   "id": "f61cdfb4",
   "metadata": {
    "execution": {
     "iopub.execute_input": "2022-12-02T20:49:17.742343Z",
     "iopub.status.busy": "2022-12-02T20:49:17.741946Z",
     "iopub.status.idle": "2022-12-02T20:49:17.802920Z",
     "shell.execute_reply": "2022-12-02T20:49:17.801732Z"
    },
    "papermill": {
     "duration": 0.068182,
     "end_time": "2022-12-02T20:49:17.805539",
     "exception": false,
     "start_time": "2022-12-02T20:49:17.737357",
     "status": "completed"
    },
    "tags": []
   },
   "outputs": [
    {
     "data": {
      "text/plain": [
       "LogisticRegression(solver='liblinear')"
      ]
     },
     "execution_count": 6,
     "metadata": {},
     "output_type": "execute_result"
    }
   ],
   "source": [
    "LogReg = LogisticRegression(solver= 'liblinear')\n",
    "LogReg.fit(x_train,y_train)"
   ]
  },
  {
   "cell_type": "code",
   "execution_count": 7,
   "id": "0128236a",
   "metadata": {
    "execution": {
     "iopub.execute_input": "2022-12-02T20:49:17.815584Z",
     "iopub.status.busy": "2022-12-02T20:49:17.814507Z",
     "iopub.status.idle": "2022-12-02T20:49:17.848834Z",
     "shell.execute_reply": "2022-12-02T20:49:17.847135Z"
    },
    "papermill": {
     "duration": 0.044081,
     "end_time": "2022-12-02T20:49:17.853231",
     "exception": false,
     "start_time": "2022-12-02T20:49:17.809150",
     "status": "completed"
    },
    "tags": []
   },
   "outputs": [
    {
     "data": {
      "text/plain": [
       "(418, 2)"
      ]
     },
     "execution_count": 7,
     "metadata": {},
     "output_type": "execute_result"
    }
   ],
   "source": [
    "#Predict\n",
    "predict = LogReg.predict(x_test)\n",
    "predictions = pd.DataFrame({'PassengerId':x_test['PassengerId'],'Survived':predict})\n",
    "predictions.shape"
   ]
  },
  {
   "cell_type": "code",
   "execution_count": 8,
   "id": "a37d717f",
   "metadata": {
    "execution": {
     "iopub.execute_input": "2022-12-02T20:49:17.874534Z",
     "iopub.status.busy": "2022-12-02T20:49:17.873798Z",
     "iopub.status.idle": "2022-12-02T20:49:17.888503Z",
     "shell.execute_reply": "2022-12-02T20:49:17.886967Z"
    },
    "papermill": {
     "duration": 0.029993,
     "end_time": "2022-12-02T20:49:17.892445",
     "exception": false,
     "start_time": "2022-12-02T20:49:17.862452",
     "status": "completed"
    },
    "tags": []
   },
   "outputs": [
    {
     "name": "stdout",
     "output_type": "stream",
     "text": [
      "Done\n"
     ]
    }
   ],
   "source": [
    "predictions.to_csv('titanic_submission.csv', index= False)\n",
    "print(\"Done\")"
   ]
  },
  {
   "cell_type": "code",
   "execution_count": null,
   "id": "ded7e371",
   "metadata": {
    "papermill": {
     "duration": 0.008551,
     "end_time": "2022-12-02T20:49:17.909908",
     "exception": false,
     "start_time": "2022-12-02T20:49:17.901357",
     "status": "completed"
    },
    "tags": []
   },
   "outputs": [],
   "source": []
  }
 ],
 "metadata": {
  "kernelspec": {
   "display_name": "Python 3",
   "language": "python",
   "name": "python3"
  },
  "language_info": {
   "codemirror_mode": {
    "name": "ipython",
    "version": 3
   },
   "file_extension": ".py",
   "mimetype": "text/x-python",
   "name": "python",
   "nbconvert_exporter": "python",
   "pygments_lexer": "ipython3",
   "version": "3.7.12"
  },
  "papermill": {
   "default_parameters": {},
   "duration": 11.146677,
   "end_time": "2022-12-02T20:49:18.649587",
   "environment_variables": {},
   "exception": null,
   "input_path": "__notebook__.ipynb",
   "output_path": "__notebook__.ipynb",
   "parameters": {},
   "start_time": "2022-12-02T20:49:07.502910",
   "version": "2.3.4"
  }
 },
 "nbformat": 4,
 "nbformat_minor": 5
}
